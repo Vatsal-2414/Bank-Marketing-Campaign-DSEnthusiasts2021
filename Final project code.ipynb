{
 "cells": [
  {
   "cell_type": "markdown",
   "metadata": {},
   "source": [
    "<h2><b>Data Science Project: Bank Marketing (Campaign)\n",
    "    Week 13</b></h2>\n",
    "\n",
    "<b>Team Member's Details:</b>\n",
    "Group name - Data Science Enthusiasts\n",
    "\n",
    "<b>MEMBER 1</b> - Amira Asta\n",
    "\n",
    "<b>EMAIL ID</b> - amira.asta02@gmail.com \n",
    "\n",
    "<b>COUNTRY</b> - Tunisia\n",
    "\n",
    "<b>COLLEGE/COMPANY</b> - Afrikanda \n",
    "\n",
    "<b>SPECIALIZATION</b> - Data Science\n",
    "\n",
    "\n",
    "<b>MEMBER 2</b> - Vatsal Vinesh Mandalia\n",
    "\n",
    "<b>EMAIL ID</b> - vatsalvm10@outlook.com\n",
    "\n",
    "<b>COUNTRY</b> - Oman\n",
    "\n",
    "<b>COLLEGE/COMPANY</b> - Graduated\n",
    "\n",
    "<b>SPECIALIZATION</b> - Data Science"
   ]
  },
  {
   "cell_type": "code",
   "execution_count": 1,
   "metadata": {},
   "outputs": [],
   "source": [
    "import numpy as np\n",
    "import matplotlib.pyplot as plt\n",
    "import pandas as pd\n",
    "import seaborn as sns\n",
    "from sklearn.model_selection import train_test_split\n",
    "from sklearn.linear_model import LogisticRegression\n",
    "from sklearn.preprocessing import LabelEncoder\n",
    "from sklearn.metrics import confusion_matrix, classification_report, roc_curve, roc_auc_score\n",
    "from sklearn.metrics import precision_score, recall_score, precision_recall_curve, f1_score, fbeta_score\n",
    "from sklearn.tree import DecisionTreeClassifier\n",
    "from sklearn.neighbors import KNeighborsClassifier\n",
    "from sklearn.naive_bayes import GaussianNB\n",
    "from sklearn.discriminant_analysis import LinearDiscriminantAnalysis\n",
    "from sklearn.svm import SVC\n",
    "from sklearn.ensemble import GradientBoostingClassifier\n",
    "from sklearn.ensemble import AdaBoostClassifier\n",
    "from sklearn.ensemble import RandomForestClassifier\n",
    "from sklearn.ensemble import ExtraTreesClassifier\n"
   ]
  },
  {
   "cell_type": "code",
   "execution_count": 2,
   "metadata": {},
   "outputs": [],
   "source": [
    "# bank-additional data\n",
    "bk_add_full = pd.read_csv('~/Downloads/bank-additional/bank-additional-full.csv', delimiter = ';')\n",
    "bk_add = pd.read_csv('~/Downloads/bank-additional/bank-additional.csv', delimiter = ';')\n",
    "\n",
    "# bank-full data\n",
    "bank_full = pd.read_csv('~/Downloads/bank/bank-full.csv', delimiter = ';')\n",
    "bank = pd.read_csv('~/Downloads/bank/bank.csv', delimiter = ';')"
   ]
  },
  {
   "cell_type": "code",
   "execution_count": 3,
   "metadata": {},
   "outputs": [
    {
     "name": "stdout",
     "output_type": "stream",
     "text": [
      "bank-additional-full data:\n",
      "    age        job  marital    education  default housing loan    contact  \\\n",
      "0   56  housemaid  married     basic.4y       no      no   no  telephone   \n",
      "1   57   services  married  high.school  unknown      no   no  telephone   \n",
      "2   37   services  married  high.school       no     yes   no  telephone   \n",
      "3   40     admin.  married     basic.6y       no      no   no  telephone   \n",
      "4   56   services  married  high.school       no      no  yes  telephone   \n",
      "\n",
      "  month day_of_week ...  campaign  pdays  previous     poutcome emp.var.rate  \\\n",
      "0   may         mon ...         1    999         0  nonexistent          1.1   \n",
      "1   may         mon ...         1    999         0  nonexistent          1.1   \n",
      "2   may         mon ...         1    999         0  nonexistent          1.1   \n",
      "3   may         mon ...         1    999         0  nonexistent          1.1   \n",
      "4   may         mon ...         1    999         0  nonexistent          1.1   \n",
      "\n",
      "   cons.price.idx  cons.conf.idx  euribor3m  nr.employed   y  \n",
      "0          93.994          -36.4      4.857       5191.0  no  \n",
      "1          93.994          -36.4      4.857       5191.0  no  \n",
      "2          93.994          -36.4      4.857       5191.0  no  \n",
      "3          93.994          -36.4      4.857       5191.0  no  \n",
      "4          93.994          -36.4      4.857       5191.0  no  \n",
      "\n",
      "[5 rows x 21 columns]\n",
      "\n",
      "\n",
      "bank-additional data:\n",
      "    age          job  marital          education default  housing     loan  \\\n",
      "0   30  blue-collar  married           basic.9y      no      yes       no   \n",
      "1   39     services   single        high.school      no       no       no   \n",
      "2   25     services  married        high.school      no      yes       no   \n",
      "3   38     services  married           basic.9y      no  unknown  unknown   \n",
      "4   47       admin.  married  university.degree      no      yes       no   \n",
      "\n",
      "     contact month day_of_week ...  campaign  pdays  previous     poutcome  \\\n",
      "0   cellular   may         fri ...         2    999         0  nonexistent   \n",
      "1  telephone   may         fri ...         4    999         0  nonexistent   \n",
      "2  telephone   jun         wed ...         1    999         0  nonexistent   \n",
      "3  telephone   jun         fri ...         3    999         0  nonexistent   \n",
      "4   cellular   nov         mon ...         1    999         0  nonexistent   \n",
      "\n",
      "  emp.var.rate  cons.price.idx  cons.conf.idx  euribor3m  nr.employed   y  \n",
      "0         -1.8          92.893          -46.2      1.313       5099.1  no  \n",
      "1          1.1          93.994          -36.4      4.855       5191.0  no  \n",
      "2          1.4          94.465          -41.8      4.962       5228.1  no  \n",
      "3          1.4          94.465          -41.8      4.959       5228.1  no  \n",
      "4         -0.1          93.200          -42.0      4.191       5195.8  no  \n",
      "\n",
      "[5 rows x 21 columns]\n"
     ]
    }
   ],
   "source": [
    "# bank-additional-full and bank-additional data\n",
    "print('bank-additional-full data:\\n', bk_add_full.head())\n",
    "# print(bk_add_full.info())\n",
    "print('\\n')\n",
    "print('bank-additional data:\\n', bk_add.head())\n",
    "# print(bk_add.info())\n",
    "# print('-------')\n",
    "# print('\\n')\n",
    "# print('bank-full data:\\n', bank_full.head())\n",
    "# print(bank_full.info())\n",
    "# print('\\n')\n",
    "# print('bank data:\\n', bank.head())\n",
    "# print(bank.info())"
   ]
  },
  {
   "cell_type": "code",
   "execution_count": 4,
   "metadata": {},
   "outputs": [
    {
     "name": "stdout",
     "output_type": "stream",
     "text": [
      "12\n",
      "There are 12 rows whose duplicates are also present in bank-additional-full data\n",
      "0\n",
      "No duplicate rows in bank-additional data\n",
      "0\n",
      "No duplicate rows in bank-full data\n",
      "0\n",
      "No duplicate rows in bank data\n"
     ]
    }
   ],
   "source": [
    "# To check for duplicate rows\n",
    "# bank-additional-full and bank-additional data\n",
    "print(bk_add_full.duplicated().sum())\n",
    "print('There are 12 rows whose duplicates are also present in bank-additional-full data')\n",
    "bk_add_full.drop_duplicates(keep = 'first', inplace = True)\n",
    "\n",
    "print(bk_add.duplicated().sum())\n",
    "print('No duplicate rows in bank-additional data')\n",
    "\n",
    "# bank-full and bank data\n",
    "print(bank_full.duplicated(keep = False).sum())\n",
    "print('No duplicate rows in bank-full data')\n",
    "print(bank.duplicated(keep = False).sum())\n",
    "print('No duplicate rows in bank data')  "
   ]
  },
  {
   "cell_type": "code",
   "execution_count": 5,
   "metadata": {},
   "outputs": [],
   "source": [
    "# Finally, the 'duration' feature is dropped from the datasets.\n",
    "# This is due to description of the feature given in the Bank Marketing (Campaign) page\n",
    "bk_add_full.drop('duration', axis = 1, inplace = True)\n",
    "bk_add.drop('duration', axis = 1, inplace = True)  "
   ]
  },
  {
   "cell_type": "code",
   "execution_count": 6,
   "metadata": {},
   "outputs": [
    {
     "name": "stdout",
     "output_type": "stream",
     "text": [
      "['job', 'marital', 'education', 'default', 'housing', 'loan', 'contact', 'month', 'day_of_week', 'poutcome', 'y']\n"
     ]
    }
   ],
   "source": [
    "# Storing the numeric and categorical variable names\n",
    "numeric_types = list(bk_add_full.select_dtypes(include = ['int64', 'float64']).columns)\n",
    "# print(numeric_types)\n",
    "categorical_types = list(bk_add_full.select_dtypes(include = ['object']).columns)\n",
    "print(categorical_types)"
   ]
  },
  {
   "cell_type": "code",
   "execution_count": 7,
   "metadata": {},
   "outputs": [
    {
     "name": "stdout",
     "output_type": "stream",
     "text": [
      "['job', 'marital', 'education', 'default', 'housing', 'loan', 'contact', 'month', 'day_of_week', 'poutcome']\n"
     ]
    }
   ],
   "source": [
    "# Creating Feature and Target set\n",
    "bk_add_full_copy = bk_add_full\n",
    "only_features = [i for i in categorical_types if(i!='y')] # all feature names except target variable\n",
    "print(only_features)\n",
    "\n",
    "# Target and Feature set\n",
    "y = bk_add_full.pop('y')\n",
    "X = bk_add_full[only_features]"
   ]
  },
  {
   "cell_type": "code",
   "execution_count": 8,
   "metadata": {},
   "outputs": [
    {
     "name": "stderr",
     "output_type": "stream",
     "text": [
      "/Users/vatsalmandalia/anaconda3/lib/python3.7/site-packages/ipykernel_launcher.py:6: SettingWithCopyWarning: \n",
      "A value is trying to be set on a copy of a slice from a DataFrame.\n",
      "Try using .loc[row_indexer,col_indexer] = value instead\n",
      "\n",
      "See the caveats in the documentation: http://pandas.pydata.org/pandas-docs/stable/indexing.html#indexing-view-versus-copy\n",
      "  \n"
     ]
    }
   ],
   "source": [
    "# Label Encoder\n",
    "# Machine Learning Algorithms accept only numeric features. So Label Encoder allows to convert the categorical\n",
    "# features to convert to numeric.\n",
    "le = LabelEncoder()\n",
    "for feature in only_features:\n",
    "    X[feature] = le.fit_transform(X[feature])"
   ]
  },
  {
   "cell_type": "code",
   "execution_count": 9,
   "metadata": {},
   "outputs": [
    {
     "name": "stdout",
     "output_type": "stream",
     "text": [
      "[0 0 0 ... 0 1 0]\n"
     ]
    }
   ],
   "source": [
    "# Applying Label Encoder to the target variable\n",
    "le_y = LabelEncoder()\n",
    "y = le_y.fit_transform(y)\n",
    "print(y)"
   ]
  },
  {
   "cell_type": "code",
   "execution_count": 10,
   "metadata": {},
   "outputs": [],
   "source": [
    "# Train and test split\n",
    "X_train, X_test, y_train, y_test = train_test_split(X, y, test_size = 0.2, random_state = 100)"
   ]
  },
  {
   "cell_type": "markdown",
   "metadata": {},
   "source": [
    "<h3><b>Linear and Non Linear Classifiers</b></h3>"
   ]
  },
  {
   "cell_type": "code",
   "execution_count": 11,
   "metadata": {},
   "outputs": [
    {
     "name": "stderr",
     "output_type": "stream",
     "text": [
      "/Users/vatsalmandalia/anaconda3/lib/python3.7/site-packages/sklearn/linear_model/logistic.py:433: FutureWarning: Default solver will be changed to 'lbfgs' in 0.22. Specify a solver to silence this warning.\n",
      "  FutureWarning)\n"
     ]
    },
    {
     "data": {
      "image/png": "[encoded data removed]",
      "text/plain": [
       "<Figure size 432x432 with 1 Axes>"
      ]
     },
     "metadata": {
      "needs_background": "light"
     },
     "output_type": "display_data"
    }
   ],
   "source": [
    "# Models list\n",
    "models = [('Logistic Regression', LogisticRegression()), ('Linear Discriminant Analysis', LinearDiscriminantAnalysis()), \\\n",
    "         ('K Nearest Neighbors', KNeighborsClassifier()), ('Decision Tree Classifier', DecisionTreeClassifier()), \\\n",
    "         ('Naive Bayes Classifier', GaussianNB())]\n",
    "\n",
    "names = []\n",
    "roc_scores = []\n",
    "fpr = []\n",
    "tpr = []\n",
    "thresholds = []\n",
    "\n",
    "for name, model in models:\n",
    "    model.fit(X_train, y_train)\n",
    "    \n",
    "    pred = model.predict(X_test)\n",
    "    \n",
    "    # ROC scores\n",
    "    score = roc_auc_score(y_test, pred)\n",
    "    roc_scores.append(score)\n",
    "    \n",
    "    # fpr, tpr, threshold\n",
    "    f, t, th = roc_curve(y_test, model.predict_proba(X_test)[:,1])\n",
    "    fpr.append(f)\n",
    "    tpr.append(t)\n",
    "    thresholds.append(th)\n",
    "    \n",
    "    # name of the models\n",
    "    names.append(name)\n",
    "    \n",
    "# Plotting the roc curves\n",
    "plt.figure(figsize = (6,6))\n",
    "plt.plot(fpr[0], tpr[0], 'b-', label = 'Logistic Regression (area = %0.2f)' % roc_scores[0])\n",
    "plt.plot(fpr[1], tpr[1], 'g-', label = 'LDA (area = %0.2f)' % roc_scores[1])\n",
    "plt.plot(fpr[2], tpr[2], 'm-', label = 'KNN (area = %0.2f)' % roc_scores[2])\n",
    "plt.plot(fpr[3], tpr[3], 'y-', label = 'CART (area = %0.2f)' % roc_scores[3])\n",
    "plt.plot(fpr[4], tpr[4], 'k-', label = 'NB (area = %0.2f)' % roc_scores[4])\n",
    "plt.plot([0, 1], [0, 1],'r--')\n",
    "plt.xlim([0.0, 1.0])\n",
    "plt.ylim([0.0, 1.05])\n",
    "plt.xlabel('False Positive Rate')\n",
    "plt.ylabel('True Positive Rate')\n",
    "plt.title('ROC-AUC curve')\n",
    "plt.legend(loc=\"lower right\")\n",
    "# plt.savefig('ROC_curves.png')\n",
    "plt.show()"
   ]
  },
  {
   "cell_type": "markdown",
   "metadata": {},
   "source": [
    "<h3><b>Ensemble methods</b></h3>"
   ]
  },
  {
   "cell_type": "code",
   "execution_count": 12,
   "metadata": {},
   "outputs": [
    {
     "name": "stderr",
     "output_type": "stream",
     "text": [
      "/Users/vatsalmandalia/anaconda3/lib/python3.7/site-packages/sklearn/ensemble/forest.py:246: FutureWarning: The default value of n_estimators will change from 10 in version 0.20 to 100 in 0.22.\n",
      "  \"10 in version 0.20 to 100 in 0.22.\", FutureWarning)\n",
      "/Users/vatsalmandalia/anaconda3/lib/python3.7/site-packages/sklearn/ensemble/forest.py:246: FutureWarning: The default value of n_estimators will change from 10 in version 0.20 to 100 in 0.22.\n",
      "  \"10 in version 0.20 to 100 in 0.22.\", FutureWarning)\n"
     ]
    },
    {
     "data": {
      "image/png": "[encoded data removed]",
      "text/plain": [
       "<Figure size 432x432 with 1 Axes>"
      ]
     },
     "metadata": {
      "needs_background": "light"
     },
     "output_type": "display_data"
    }
   ],
   "source": [
    "# Ensemble methods\n",
    "# Models list - Boosting and Bagging algorithms\n",
    "models_ensemble = [('Ada Boost', AdaBoostClassifier()), ('GBM', GradientBoostingClassifier()), \\\n",
    "         ('RF', RandomForestClassifier()), ('ET', ExtraTreesClassifier())]\n",
    "\n",
    "names_ensemble = []\n",
    "roc_scores_ensemble = []\n",
    "fpr_ensemble = []\n",
    "tpr_ensemble = []\n",
    "thresholds_ensemble = []\n",
    "\n",
    "for name, model in models_ensemble:\n",
    "    model.fit(X_train, y_train)\n",
    "    \n",
    "    pr = model.predict(X_test)\n",
    "    \n",
    "    # ROC scores\n",
    "    sc = roc_auc_score(y_test, pr)\n",
    "    roc_scores_ensemble.append(sc)\n",
    "    \n",
    "    # fpr, tpr, threshold\n",
    "    f_e, t_e, th_e = roc_curve(y_test, model.predict_proba(X_test)[:,1])\n",
    "    fpr_ensemble.append(f_e)\n",
    "    tpr_ensemble.append(t_e)\n",
    "    thresholds_ensemble.append(th_e)\n",
    "    \n",
    "    # name of the models\n",
    "    names_ensemble.append(name)\n",
    "    \n",
    "# Plotting the roc curves\n",
    "plt.figure(figsize = (6,6))\n",
    "plt.plot(fpr_ensemble[0], tpr_ensemble[0], 'b-', label = 'Ada Boost (area = %0.2f)' % roc_scores_ensemble[0])\n",
    "plt.plot(fpr_ensemble[1], tpr_ensemble[1], 'g-', label = 'GBM (area = %0.2f)' % roc_scores_ensemble[1])\n",
    "plt.plot(fpr_ensemble[2], tpr_ensemble[2], 'm-', label = 'RF (area = %0.2f)' % roc_scores_ensemble[2])\n",
    "plt.plot(fpr_ensemble[3], tpr_ensemble[3], 'y-', label = 'ET (area = %0.2f)' % roc_scores_ensemble[3])\n",
    "plt.plot([0, 1], [0, 1],'r--')\n",
    "plt.xlim([0.0, 1.0])\n",
    "plt.ylim([0.0, 1.05])\n",
    "plt.xlabel('False Positive Rate')\n",
    "plt.ylabel('True Positive Rate')\n",
    "plt.title('ROC-AUC curve')\n",
    "plt.legend(loc=\"lower right\")\n",
    "# plt.savefig('ROC_curves_ensemble.png')\n",
    "plt.show()\n"
   ]
  },
  {
   "cell_type": "code",
   "execution_count": 13,
   "metadata": {},
   "outputs": [
    {
     "data": {
      "text/html": [
       "<div>\n",
       "<style scoped>\n",
       "    .dataframe tbody tr th:only-of-type {\n",
       "        vertical-align: middle;\n",
       "    }\n",
       "\n",
       "    .dataframe tbody tr th {\n",
       "        vertical-align: top;\n",
       "    }\n",
       "\n",
       "    .dataframe thead th {\n",
       "        text-align: right;\n",
       "    }\n",
       "</style>\n",
       "<table border=\"1\" class=\"dataframe\">\n",
       "  <thead>\n",
       "    <tr style=\"text-align: right;\">\n",
       "      <th></th>\n",
       "      <th>Models</th>\n",
       "      <th>ROC_AUC_Score</th>\n",
       "    </tr>\n",
       "  </thead>\n",
       "  <tbody>\n",
       "    <tr>\n",
       "      <th>0</th>\n",
       "      <td>Naive Bayes Classifier</td>\n",
       "      <td>0.621658</td>\n",
       "    </tr>\n",
       "    <tr>\n",
       "      <th>1</th>\n",
       "      <td>Decision Tree Classifier</td>\n",
       "      <td>0.604170</td>\n",
       "    </tr>\n",
       "    <tr>\n",
       "      <th>2</th>\n",
       "      <td>RF</td>\n",
       "      <td>0.597407</td>\n",
       "    </tr>\n",
       "    <tr>\n",
       "      <th>3</th>\n",
       "      <td>Ada Boost</td>\n",
       "      <td>0.594331</td>\n",
       "    </tr>\n",
       "    <tr>\n",
       "      <th>4</th>\n",
       "      <td>GBM</td>\n",
       "      <td>0.593580</td>\n",
       "    </tr>\n",
       "    <tr>\n",
       "      <th>5</th>\n",
       "      <td>ET</td>\n",
       "      <td>0.590508</td>\n",
       "    </tr>\n",
       "    <tr>\n",
       "      <th>6</th>\n",
       "      <td>K Nearest Neighbors</td>\n",
       "      <td>0.552665</td>\n",
       "    </tr>\n",
       "    <tr>\n",
       "      <th>7</th>\n",
       "      <td>Linear Discriminant Analysis</td>\n",
       "      <td>0.527664</td>\n",
       "    </tr>\n",
       "    <tr>\n",
       "      <th>8</th>\n",
       "      <td>Logistic Regression</td>\n",
       "      <td>0.500410</td>\n",
       "    </tr>\n",
       "  </tbody>\n",
       "</table>\n",
       "</div>"
      ],
      "text/plain": [
       "                         Models  ROC_AUC_Score\n",
       "0        Naive Bayes Classifier       0.621658\n",
       "1      Decision Tree Classifier       0.604170\n",
       "2                            RF       0.597407\n",
       "3                     Ada Boost       0.594331\n",
       "4                           GBM       0.593580\n",
       "5                            ET       0.590508\n",
       "6           K Nearest Neighbors       0.552665\n",
       "7  Linear Discriminant Analysis       0.527664\n",
       "8           Logistic Regression       0.500410"
      ]
     },
     "metadata": {},
     "output_type": "display_data"
    }
   ],
   "source": [
    "simple_roc = pd.DataFrame({'Models':names, 'ROC_AUC_Score':roc_scores})\n",
    "ensemble_roc = pd.DataFrame({'Models':names_ensemble, 'ROC_AUC_Score':roc_scores_ensemble})\n",
    "\n",
    "final_roc = pd.concat([simple_roc, ensemble_roc], ignore_index = True).sort_values('ROC_AUC_Score', ascending = False).reset_index(drop = True)\n",
    "display(final_roc)  "
   ]
  },
  {
   "cell_type": "markdown",
   "metadata": {},
   "source": [
    "<h3>The ROC_AUC scores above are obtained without applying Standard Scaler and Cross Validation techniques on the data. So the values are a basic result.</h3>\n",
    "<h3>From the work done by my team member, Amira Asta, the Gradient Boosting algorithm is found to work well than other algorithms.</h3>"
   ]
  },
  {
   "cell_type": "markdown",
   "metadata": {},
   "source": [
    "<h4>Below, the train and test data are standardized to obtain the best results</h4>"
   ]
  },
  {
   "cell_type": "code",
   "execution_count": 14,
   "metadata": {},
   "outputs": [
    {
     "name": "stderr",
     "output_type": "stream",
     "text": [
      "/Users/vatsalmandalia/anaconda3/lib/python3.7/site-packages/sklearn/preprocessing/data.py:625: DataConversionWarning: Data with input dtype int64 were all converted to float64 by StandardScaler.\n",
      "  return self.partial_fit(X, y)\n",
      "/Users/vatsalmandalia/anaconda3/lib/python3.7/site-packages/sklearn/base.py:462: DataConversionWarning: Data with input dtype int64 were all converted to float64 by StandardScaler.\n",
      "  return self.fit(X, **fit_params).transform(X)\n",
      "/Users/vatsalmandalia/anaconda3/lib/python3.7/site-packages/sklearn/preprocessing/data.py:625: DataConversionWarning: Data with input dtype int64 were all converted to float64 by StandardScaler.\n",
      "  return self.partial_fit(X, y)\n",
      "/Users/vatsalmandalia/anaconda3/lib/python3.7/site-packages/sklearn/base.py:462: DataConversionWarning: Data with input dtype int64 were all converted to float64 by StandardScaler.\n",
      "  return self.fit(X, **fit_params).transform(X)\n"
     ]
    }
   ],
   "source": [
    "# Standardizing the train and test datasets\n",
    "from sklearn.preprocessing import StandardScaler\n",
    "\n",
    "scaler = StandardScaler()\n",
    "rescaled_Xtrain = scaler.fit_transform(X_train)\n",
    "rescaled_Xtest = scaler.fit_transform(X_test)"
   ]
  },
  {
   "cell_type": "code",
   "execution_count": 15,
   "metadata": {},
   "outputs": [
    {
     "data": {
      "text/plain": [
       "GradientBoostingClassifier(criterion='friedman_mse', init=None,\n",
       "              learning_rate=0.1, loss='deviance', max_depth=3,\n",
       "              max_features=None, max_leaf_nodes=None,\n",
       "              min_impurity_decrease=0.0, min_impurity_split=None,\n",
       "              min_samples_leaf=1, min_samples_split=2,\n",
       "              min_weight_fraction_leaf=0.0, n_estimators=100,\n",
       "              n_iter_no_change=None, presort='auto', random_state=None,\n",
       "              subsample=1.0, tol=0.0001, validation_fraction=0.1,\n",
       "              verbose=0, warm_start=False)"
      ]
     },
     "execution_count": 15,
     "metadata": {},
     "output_type": "execute_result"
    }
   ],
   "source": [
    "# Finalized model\n",
    "gb_model = GradientBoostingClassifier()\n",
    "\n",
    "# Fitting the model\n",
    "gb_model.fit(rescaled_Xtrain, y_train)"
   ]
  },
  {
   "cell_type": "code",
   "execution_count": 16,
   "metadata": {},
   "outputs": [
    {
     "name": "stdout",
     "output_type": "stream",
     "text": [
      "[0 0 1 ... 0 0 0]\n"
     ]
    }
   ],
   "source": [
    "# Predicting the results\n",
    "final_pred = gb_model.predict(rescaled_Xtest)\n",
    "\n",
    "print(final_pred)"
   ]
  },
  {
   "cell_type": "code",
   "execution_count": 17,
   "metadata": {},
   "outputs": [
    {
     "name": "stdout",
     "output_type": "stream",
     "text": [
      "ROC_AUC score =  0.5935800373653753\n",
      "Accuracy of the Gradient Boosting Classifier =  0.9005585235551239\n",
      "Mean squared error of the Gradient Boosting Classifier =  0.09944147644487615\n"
     ]
    }
   ],
   "source": [
    "# Performance metrics\n",
    "from sklearn.metrics import accuracy_score, mean_squared_error\n",
    "\n",
    "gb_roc_score = roc_auc_score(y_test, final_pred)\n",
    "print('ROC_AUC score = ', gb_roc_score)\n",
    "\n",
    "print('Accuracy of the Gradient Boosting Classifier = ', accuracy_score(y_test, final_pred))\n",
    "print('Mean squared error of the Gradient Boosting Classifier = ', mean_squared_error(y_test, final_pred))"
   ]
  },
  {
   "cell_type": "code",
   "execution_count": 18,
   "metadata": {},
   "outputs": [
    {
     "name": "stdout",
     "output_type": "stream",
     "text": [
      "Confusion matrix:\n",
      " [[7235   86]\n",
      " [ 733  182]]\n",
      "Classification report:\n",
      "               precision    recall  f1-score   support\n",
      "\n",
      "           0       0.91      0.99      0.95      7321\n",
      "           1       0.68      0.20      0.31       915\n",
      "\n",
      "   micro avg       0.90      0.90      0.90      8236\n",
      "   macro avg       0.79      0.59      0.63      8236\n",
      "weighted avg       0.88      0.90      0.88      8236\n",
      "\n"
     ]
    }
   ],
   "source": [
    "# Confusion matrix\n",
    "print('Confusion matrix:\\n', confusion_matrix(y_test, final_pred))\n",
    "\n",
    "# Classification report\n",
    "print('Classification report:\\n', classification_report(y_test, final_pred))"
   ]
  },
  {
   "cell_type": "code",
   "execution_count": 19,
   "metadata": {},
   "outputs": [
    {
     "data": {
      "image/png": "[encoded data removed]",
      "text/plain": [
       "<Figure size 432x288 with 1 Axes>"
      ]
     },
     "metadata": {
      "needs_background": "light"
     },
     "output_type": "display_data"
    }
   ],
   "source": [
    "# ROC_AUC curve\n",
    "fpr_gb, tpr_gb, threshold_gb = roc_curve(y_test, gb_model.predict_proba(rescaled_Xtest)[:,1])\n",
    "\n",
    "plt.plot(fpr_gb, tpr_gb, label = 'Gradient Boosting (area = %0.2f)' % gb_roc_score)\n",
    "plt.plot([0,1], [0,1], 'r--')\n",
    "plt.xlim([0.0, 1.0])\n",
    "plt.ylim([0.0, 1.05])\n",
    "plt.xlabel('False Positive Rate')\n",
    "plt.ylabel('True Positive Rate')\n",
    "plt.title('ROC_AUC Curve for Gradient Boosting Algorithm')\n",
    "plt.legend(loc = 'lower right')\n",
    "plt.show()"
   ]
  },
  {
   "cell_type": "markdown",
   "metadata": {},
   "source": [
    "<h3><b>Saving the model</b></h3>"
   ]
  },
  {
   "cell_type": "code",
   "execution_count": 20,
   "metadata": {},
   "outputs": [],
   "source": [
    "import pickle\n",
    "filename = 'finalized_model.sav'\n",
    "\n",
    "with open(filename, 'wb') as f:\n",
    "    pickle.dump(gb_model, f)"
   ]
  },
  {
   "cell_type": "code",
   "execution_count": null,
   "metadata": {},
   "outputs": [],
   "source": []
  }
 ],
 "metadata": {
  "kernelspec": {
   "display_name": "Python 3",
   "language": "python",
   "name": "python3"
  },
  "language_info": {
   "codemirror_mode": {
    "name": "ipython",
    "version": 3
   },
   "file_extension": ".py",
   "mimetype": "text/x-python",
   "name": "python",
   "nbconvert_exporter": "python",
   "pygments_lexer": "ipython3",
   "version": "3.7.1"
  }
 },
 "nbformat": 4,
 "nbformat_minor": 2
}
